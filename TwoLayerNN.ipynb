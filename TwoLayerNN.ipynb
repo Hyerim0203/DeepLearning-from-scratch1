{
 "cells": [
  {
   "cell_type": "code",
   "execution_count": 197,
   "metadata": {},
   "outputs": [],
   "source": [
    "import numpy as np\n",
    "from functions import sigmoid, softmax, cross_entropy_error"
   ]
  },
  {
   "cell_type": "code",
   "execution_count": 216,
   "metadata": {},
   "outputs": [],
   "source": [
    "class TwoLayerNN:\n",
    "    \"\"\" a neural network with one hidden layer \"\"\"\n",
    "    def __init__(self, X, Y, hidden_size):\n",
    "        # parameters\n",
    "        self.X = X\n",
    "        self.Y = Y\n",
    "        self.data_num = X.shape[0] # 총 데이터 크기\n",
    "        self.feature_size = X.shape[1] # X데이터의 크기를 이용해 feature size 추출\n",
    "        self.output_size = Y.shape[1]  # Y데이터의 크기를 이용해 output size 추출(one-hot encoding 된 라벨 데이터)\n",
    "        \n",
    "        \"\"\"initialize parameters W1, b1, W2, b2\"\"\"\n",
    "        self.params = {}\n",
    "        # W1, b1 --> hidden layer\n",
    "        self.params[\"W1\"] = np.random.randn(self.feature_size,hidden_size)\n",
    "        self.params[\"b1\"] = np.random.randn(hidden_size)\n",
    "        \n",
    "        # W2, b2 : hidden layer --> output layer\n",
    "        self.params[\"W2\"] = np.random.randn(hidden_size, self.output_size)\n",
    "        self.params[\"b2\"] = np.random.randn(self.output_size)\n",
    "        \n",
    "        \n",
    "    def predict(self,x):\n",
    "        \"\"\" given input x, calculate output using current parameters : W1,b1,W2,b2 \"\"\"\n",
    "        # input --> hidden layer\n",
    "        l1 = np.dot(x,self.params[\"W1\"])+self.params[\"b1\"]\n",
    "        l1 = sigmoid(l1)\n",
    "        \n",
    "        # hidden layer --> output layer\n",
    "        l2 = np.dot(l1,self.params[\"W2\"])+self.params[\"b2\"]\n",
    "        self.score = softmax(l2)\n",
    "        \n",
    "        return self.score\n",
    "        \n",
    "    def loss(self,y,t):\n",
    "        # loss를 계산\n",
    "        error = cross_entropy_error(y,t)\n",
    "        \n",
    "        return error\n",
    "    \n",
    "    def accuracy(self, y, t):\n",
    "        # 예측값\n",
    "        predicted = np.argmax(y, axis=1)\n",
    "        t = np.argmax(t, axis=1)\n",
    " \n",
    "        # 정확도 계산\n",
    "        return np.sum(predicted==t)/t.shape[0]\n",
    "    \n",
    "    def numerical_gradient(self):\n",
    "        h=1e-4\n",
    "        # gradient를 담을 dictionary 생성\n",
    "        self.gradient = {}\n",
    "        # parameter들의 gradient 계산 및 저장\n",
    "        for par, item in self.params.items():\n",
    "            grad = np.zeros(item.shape)\n",
    "            # flatten 시켜서 개별 원소들이 idx 값을 가지도록 함\n",
    "            for idx, i in enumerate(item.flatten()):\n",
    "                # 만약 벡터 1개로 구성된 parameter 이라면\n",
    "                if item.shape == item.flatten().shape:\n",
    "                    self.params[par][idx] = i+h\n",
    "                    y1 = self.loss(self.predict(self.batch_X),self.batch_Y)\n",
    "                    self.params[par][idx] = i-h\n",
    "                    y2 = self.loss(self.predict(self.batch_X),self.batch_Y)\n",
    "                    grad[idx] = (y1-y2)/(2*h)\n",
    "                    self.params[par][idx] = i\n",
    "                    continue\n",
    "                    \n",
    "                # 만약 벡터 1개로 구성된 parameter 이라면\n",
    "                # 해당 idx 으로 실제 numpy 값에서 어떤 위치에 있는지 추출\n",
    "                row,col = idx//item.shape[1], idx%item.shape[1]\n",
    "                self.params[par][row,col] = i+h\n",
    "                y1 = self.loss(self.predict(self.batch_X),self.batch_Y)\n",
    "                self.params[par][row,col] = i-h\n",
    "                y2 = self.loss(self.predict(self.batch_X),self.batch_Y)\n",
    "                grad[row,col] = (y1-y2)/(2*h)\n",
    "                self.params[par][row,col] = i\n",
    "                \n",
    "            # 해당 파라미터의 gradient 저장\n",
    "            self.gradient[par]=grad\n",
    "        return self.gradient\n",
    "        \n",
    "    def learn(self, lr, epoch, batch_size = 40):\n",
    "        # input 데이터 수와 설정한 batch_size 수를 비교하여 batch_size 결정\n",
    "        batch_size = min(batch_size, self.data_num)\n",
    "        # batch size에 따른 한 epoch 안에서의 반복 횟수\n",
    "        batch_num = self.data_num // batch_size\n",
    "        print(batch_num)\n",
    "        # epoch 당 loss를 담을 list 생성\n",
    "        self.loss_list = []\n",
    "        # epoch 당 accuracy를 담을 list 생성\n",
    "        self.accuracy_list = []\n",
    "        \n",
    "        # 총 데이터에 대해 epoch 만큼 반복 학습\n",
    "        for e in range(epoch):\n",
    "            # 한 epoch 당 loss & accuracy를 계산\n",
    "            loss = 0\n",
    "            accuracy = 0\n",
    "            for b in range(batch_num):\n",
    "                # batch size만큼의 batch data 생성\n",
    "                self.batch_X, self.batch_Y = self.X[batch_size*b:batch_size*(b+1),], self.Y[batch_size*b:batch_size*(b+1),]\n",
    "\n",
    "                # 해당 batch_size 만큼의 데이터 input 하여 각 label에 대한 score 계산\n",
    "                score = self.predict(self.batch_X)\n",
    "                # loss 계산\n",
    "                l = self.loss(score, self.batch_Y)\n",
    "                loss+=l\n",
    "                # accuracy 계산\n",
    "                a = self.accuracy(score,self.batch_Y)\n",
    "                accuracy += a\n",
    "                \n",
    "                # W update\n",
    "                gradient = self.numerical_gradient()\n",
    "       \n",
    "                for par, item in gradient.items():\n",
    "                    self.params[par] = self.params[par]-lr*gradient[par]\n",
    "            # 한 epoch 당 loss 평균\n",
    "            loss = loss/batch_num\n",
    "            # 한 epoch 당 accuracy 평균\n",
    "            accuracy = accuracy/batch_num\n",
    "            print(\"Epoch : {:5}, Loss : {:.6f}, Accuracy : {:.4%}\".format(e,loss, accuracy))\n",
    "            self.loss_list.append(loss) \n",
    "            self.accuracy_list.append(accuracy) "
   ]
  },
  {
   "cell_type": "code",
   "execution_count": 45,
   "metadata": {},
   "outputs": [],
   "source": [
    "# 데이터 로드\n",
    "\n",
    "from sklearn.datasets import load_iris\n",
    "\n",
    "iris = load_iris()\n",
    "X = iris.data # iris data input\n",
    "y = iris.target # iris target(label)\n",
    "y_name = iris.target_names # iris target name\n",
    "label_num = len(y_name) # target 개수\n",
    "feature_names = iris.feature_names\n",
    "\n",
    "# import\n",
    "from sklearn.model_selection import train_test_split\n",
    "from NeuralNetwork_class import TwoLayerNN\n",
    "\n",
    "# train,test set 8:2 생성\n",
    "X_train, X_test, y_train, y_test = train_test_split(X,y,test_size = 0.2)\n",
    "\n",
    "# one_hot encoding\n",
    "y_train=np.eye(label_num)[y_train] # one_hot encoding\n",
    "y_test = np.eye(label_num)[y_test] # one_hot encoding"
   ]
  },
  {
   "cell_type": "code",
   "execution_count": 223,
   "metadata": {},
   "outputs": [],
   "source": [
    "# 클래스 생성\n",
    "model = TwoLayerNN(X_train,y_train,5) # hidden layer 5\n",
    "\n",
    "# learning_rate = 0.01, epoch =500, batch_size = 40(클래스에서 디폴트)\n",
    "model.learn(0.01, 500)\n",
    "\n",
    "plt.plot(model.loss_list, label = \"cost\")\n",
    "plt.plot(model.accuracy_list, label = \"accuracy\")\n",
    "plt.legend()\n",
    "\n",
    "test_accuracy = model.accuracy(model.predict(X_test),y_test)\n",
    "print(\"Test Accuracy : {:.4%}\".format(test_accuracy))\n"
   ]
  },
  {
   "cell_type": "code",
   "execution_count": 218,
   "metadata": {},
   "outputs": [
    {
     "data": {
      "text/plain": [
       "<matplotlib.legend.Legend at 0x14cced01ec8>"
      ]
     },
     "execution_count": 218,
     "metadata": {},
     "output_type": "execute_result"
    },
    {
     "data": {
      "image/png": "[encoded data removed]",
      "text/plain": [
       "<Figure size 432x288 with 1 Axes>"
      ]
     },
     "metadata": {
      "needs_background": "light"
     },
     "output_type": "display_data"
    }
   ],
   "source": [
    "# learning_rate = 0.05, epoch=500, batch_size = 40(클래스에서 디폴트)\n",
    "model.learn(0.05, 500)\n",
    "\n",
    "plt.plot(model.loss_list, label = \"cost\")\n",
    "plt.plot(model.accuracy_list, label = \"accuracy\")\n",
    "plt.legend()\n",
    "\n",
    "test_accuracy = model.accuracy(model.predict(X_test),y_test)\n",
    "print(\"Test Accuracy : {:.4%}\".format(test_accuracy))"
   ]
  },
  {
   "cell_type": "code",
   "execution_count": 222,
   "metadata": {},
   "outputs": [
    {
     "name": "stdout",
     "output_type": "stream",
     "text": [
      "Test Accuracy : 96.6667%\n"
     ]
    }
   ],
   "source": []
  }
 ],
 "metadata": {
  "kernelspec": {
   "display_name": "Python 3",
   "language": "python",
   "name": "python3"
  },
  "language_info": {
   "codemirror_mode": {
    "name": "ipython",
    "version": 3
   },
   "file_extension": ".py",
   "mimetype": "text/x-python",
   "name": "python",
   "nbconvert_exporter": "python",
   "pygments_lexer": "ipython3",
   "version": "3.7.6"
  }
 },
 "nbformat": 4,
 "nbformat_minor": 4
}
