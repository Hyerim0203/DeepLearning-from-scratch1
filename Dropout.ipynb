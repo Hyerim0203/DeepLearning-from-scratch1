{
 "cells": [
  {
   "cell_type": "code",
   "execution_count": 1,
   "metadata": {},
   "outputs": [],
   "source": [
    "import numpy as np\n",
    "\n",
    "class Dropout:\n",
    "    def __init__(self, dropout_ratio = 0.5):\n",
    "        self.dropout_ratio = dropout_ratio\n",
    "        self.mask = None\n",
    "    \n",
    "    def forward(self, x, train_flg = True):\n",
    "        # drop out ratio보다 작으면 0이 되어서 뉴런이 꺼짐\n",
    "        if train_flg: # 학습시\n",
    "            self.mask = np.random.rand(*x.shape) > self.dropout_ratio\n",
    "            return x* self.mask\n",
    "        \n",
    "        else: # 평가시\n",
    "            # 각각이 살아 있었을 확률만큼 곱해줌\n",
    "            return x*(1-self.dropout_ratio)"
   ]
  }
 ],
 "metadata": {
  "kernelspec": {
   "display_name": "Python 3",
   "language": "python",
   "name": "python3"
  },
  "language_info": {
   "codemirror_mode": {
    "name": "ipython",
    "version": 3
   },
   "file_extension": ".py",
   "mimetype": "text/x-python",
   "name": "python",
   "nbconvert_exporter": "python",
   "pygments_lexer": "ipython3",
   "version": "3.8.3"
  }
 },
 "nbformat": 4,
 "nbformat_minor": 4
}
